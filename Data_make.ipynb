{
 "cells": [
  {
   "cell_type": "code",
   "execution_count": 1,
   "id": "552cae39-07a9-4e4d-8cda-2c91231445c2",
   "metadata": {},
   "outputs": [],
   "source": [
    "import pandas as pd\n",
    "import datetime"
   ]
  },
  {
   "cell_type": "code",
   "execution_count": 2,
   "id": "1d2dbaec-81ca-4bcc-9b0d-68cddda591d7",
   "metadata": {},
   "outputs": [],
   "source": [
    "original_data = pd.read_csv('../データ/st_data.csv')"
   ]
  },
  {
   "cell_type": "markdown",
   "id": "409ea20e-f9fe-4782-b6d6-7ef8a86194a3",
   "metadata": {},
   "source": [
    "# データについて"
   ]
  },
  {
   "cell_type": "code",
   "execution_count": 3,
   "id": "36157d1f-6d1b-43b3-af93-74fd7baa5594",
   "metadata": {},
   "outputs": [
    {
     "data": {
      "text/html": [
       "<div>\n",
       "<style scoped>\n",
       "    .dataframe tbody tr th:only-of-type {\n",
       "        vertical-align: middle;\n",
       "    }\n",
       "\n",
       "    .dataframe tbody tr th {\n",
       "        vertical-align: top;\n",
       "    }\n",
       "\n",
       "    .dataframe thead th {\n",
       "        text-align: right;\n",
       "    }\n",
       "</style>\n",
       "<table border=\"1\" class=\"dataframe\">\n",
       "  <thead>\n",
       "    <tr style=\"text-align: right;\">\n",
       "      <th></th>\n",
       "      <th>entering_date</th>\n",
       "      <th>reserve_content_1</th>\n",
       "      <th>reserve_content_2</th>\n",
       "      <th>n_person</th>\n",
       "      <th>admin_tag</th>\n",
       "      <th>accept_date</th>\n",
       "      <th>year</th>\n",
       "      <th>month</th>\n",
       "      <th>day</th>\n",
       "      <th>reserved_date</th>\n",
       "      <th>status</th>\n",
       "      <th>vistor_manage</th>\n",
       "      <th>manage_memo</th>\n",
       "      <th>manage_memo_2</th>\n",
       "      <th>reservation_type</th>\n",
       "      <th>amount</th>\n",
       "      <th>discaunt</th>\n",
       "      <th>preamount</th>\n",
       "      <th>payment_status</th>\n",
       "    </tr>\n",
       "  </thead>\n",
       "  <tbody>\n",
       "    <tr>\n",
       "      <th>0</th>\n",
       "      <td>2021/03/31</td>\n",
       "      <td>来場予約</td>\n",
       "      <td>喫茶付き入場券</td>\n",
       "      <td>1</td>\n",
       "      <td>来場確認,決済済,当日飛込</td>\n",
       "      <td>3/31/21 16:36</td>\n",
       "      <td>2021</td>\n",
       "      <td>3</td>\n",
       "      <td>31</td>\n",
       "      <td>2021/03/31</td>\n",
       "      <td>確定</td>\n",
       "      <td>NaN</td>\n",
       "      <td>NaN</td>\n",
       "      <td>NaN</td>\n",
       "      <td>NaN</td>\n",
       "      <td>1600.0</td>\n",
       "      <td>NaN</td>\n",
       "      <td>NaN</td>\n",
       "      <td>NaN</td>\n",
       "    </tr>\n",
       "    <tr>\n",
       "      <th>1</th>\n",
       "      <td>2021/03/31</td>\n",
       "      <td>来場予約</td>\n",
       "      <td>\\n喫茶付き入場券\\n</td>\n",
       "      <td>1</td>\n",
       "      <td>来場確認,決済済,当日飛込</td>\n",
       "      <td>3/31/21 16:53</td>\n",
       "      <td>2021</td>\n",
       "      <td>3</td>\n",
       "      <td>31</td>\n",
       "      <td>2021/03/31</td>\n",
       "      <td>確定</td>\n",
       "      <td>NaN</td>\n",
       "      <td>NaN</td>\n",
       "      <td>NaN</td>\n",
       "      <td>NaN</td>\n",
       "      <td>1600.0</td>\n",
       "      <td>NaN</td>\n",
       "      <td>NaN</td>\n",
       "      <td>NaN</td>\n",
       "    </tr>\n",
       "    <tr>\n",
       "      <th>2</th>\n",
       "      <td>2021/03/31</td>\n",
       "      <td>来場予約</td>\n",
       "      <td>\\n喫茶付き入場券\\n</td>\n",
       "      <td>2</td>\n",
       "      <td>来場確認,決済済,当日飛込</td>\n",
       "      <td>3/31/21 16:54</td>\n",
       "      <td>2021</td>\n",
       "      <td>3</td>\n",
       "      <td>31</td>\n",
       "      <td>2021/03/31</td>\n",
       "      <td>確定</td>\n",
       "      <td>NaN</td>\n",
       "      <td>NaN</td>\n",
       "      <td>NaN</td>\n",
       "      <td>NaN</td>\n",
       "      <td>3200.0</td>\n",
       "      <td>NaN</td>\n",
       "      <td>NaN</td>\n",
       "      <td>NaN</td>\n",
       "    </tr>\n",
       "    <tr>\n",
       "      <th>3</th>\n",
       "      <td>2021/03/31</td>\n",
       "      <td>来場予約</td>\n",
       "      <td>\\n入場券\\n</td>\n",
       "      <td>2</td>\n",
       "      <td>来場確認,決済済,当日飛込</td>\n",
       "      <td>3/31/21 16:28</td>\n",
       "      <td>2021</td>\n",
       "      <td>3</td>\n",
       "      <td>31</td>\n",
       "      <td>2021/03/31</td>\n",
       "      <td>確定</td>\n",
       "      <td>NaN</td>\n",
       "      <td>NaN</td>\n",
       "      <td>NaN</td>\n",
       "      <td>NaN</td>\n",
       "      <td>1200.0</td>\n",
       "      <td>NaN</td>\n",
       "      <td>NaN</td>\n",
       "      <td>NaN</td>\n",
       "    </tr>\n",
       "    <tr>\n",
       "      <th>4</th>\n",
       "      <td>2021/03/31</td>\n",
       "      <td>来場予約</td>\n",
       "      <td>\\n入場券\\n</td>\n",
       "      <td>2</td>\n",
       "      <td>NaN</td>\n",
       "      <td>3/31/21 16:30</td>\n",
       "      <td>2021</td>\n",
       "      <td>3</td>\n",
       "      <td>31</td>\n",
       "      <td>2021/03/31</td>\n",
       "      <td>確定</td>\n",
       "      <td>NaN</td>\n",
       "      <td>NaN</td>\n",
       "      <td>NaN</td>\n",
       "      <td>NaN</td>\n",
       "      <td>1200.0</td>\n",
       "      <td>NaN</td>\n",
       "      <td>NaN</td>\n",
       "      <td>NaN</td>\n",
       "    </tr>\n",
       "    <tr>\n",
       "      <th>...</th>\n",
       "      <td>...</td>\n",
       "      <td>...</td>\n",
       "      <td>...</td>\n",
       "      <td>...</td>\n",
       "      <td>...</td>\n",
       "      <td>...</td>\n",
       "      <td>...</td>\n",
       "      <td>...</td>\n",
       "      <td>...</td>\n",
       "      <td>...</td>\n",
       "      <td>...</td>\n",
       "      <td>...</td>\n",
       "      <td>...</td>\n",
       "      <td>...</td>\n",
       "      <td>...</td>\n",
       "      <td>...</td>\n",
       "      <td>...</td>\n",
       "      <td>...</td>\n",
       "      <td>...</td>\n",
       "    </tr>\n",
       "    <tr>\n",
       "      <th>19657</th>\n",
       "      <td>2021/04/01</td>\n",
       "      <td>来場予約</td>\n",
       "      <td>\\n入場券\\n</td>\n",
       "      <td>3</td>\n",
       "      <td>来場確認,決済済,当日飛込</td>\n",
       "      <td>2004/1/21 12:07</td>\n",
       "      <td>2021</td>\n",
       "      <td>4</td>\n",
       "      <td>1</td>\n",
       "      <td>2021/04/01</td>\n",
       "      <td>確定</td>\n",
       "      <td>NaN</td>\n",
       "      <td>NaN</td>\n",
       "      <td>NaN</td>\n",
       "      <td>NaN</td>\n",
       "      <td>1800.0</td>\n",
       "      <td>NaN</td>\n",
       "      <td>NaN</td>\n",
       "      <td>NaN</td>\n",
       "    </tr>\n",
       "    <tr>\n",
       "      <th>19658</th>\n",
       "      <td>2021/04/01</td>\n",
       "      <td>来場予約</td>\n",
       "      <td>\\n喫茶付き入場券\\n</td>\n",
       "      <td>1</td>\n",
       "      <td>NaN</td>\n",
       "      <td>3/31/21 18:22</td>\n",
       "      <td>2021</td>\n",
       "      <td>3</td>\n",
       "      <td>31</td>\n",
       "      <td>2021/03/31</td>\n",
       "      <td>確定</td>\n",
       "      <td>NaN</td>\n",
       "      <td>敬老パス</td>\n",
       "      <td>各種減免（対象は上記リンクよりご確認ください）※ ［1名］</td>\n",
       "      <td>NaN</td>\n",
       "      <td>1600.0</td>\n",
       "      <td>-600.0</td>\n",
       "      <td>1000.0</td>\n",
       "      <td>決済済み</td>\n",
       "    </tr>\n",
       "    <tr>\n",
       "      <th>19659</th>\n",
       "      <td>2021/04/01</td>\n",
       "      <td>来場予約</td>\n",
       "      <td>\\n入場券\\n</td>\n",
       "      <td>2</td>\n",
       "      <td>減免,来場確認,決済済,当日飛込</td>\n",
       "      <td>2004/1/21 12:06</td>\n",
       "      <td>2021</td>\n",
       "      <td>4</td>\n",
       "      <td>1</td>\n",
       "      <td>2021/04/01</td>\n",
       "      <td>確定</td>\n",
       "      <td>NaN</td>\n",
       "      <td>うち1名キャンパス文化パートナーズ</td>\n",
       "      <td>NaN</td>\n",
       "      <td>NaN</td>\n",
       "      <td>1200.0</td>\n",
       "      <td>NaN</td>\n",
       "      <td>NaN</td>\n",
       "      <td>NaN</td>\n",
       "    </tr>\n",
       "    <tr>\n",
       "      <th>19660</th>\n",
       "      <td>2021/04/01</td>\n",
       "      <td>来場予約</td>\n",
       "      <td>\\n入場券\\n</td>\n",
       "      <td>1</td>\n",
       "      <td>減免,来場確認,当日飛込</td>\n",
       "      <td>2004/1/21 9:45</td>\n",
       "      <td>2021</td>\n",
       "      <td>4</td>\n",
       "      <td>1</td>\n",
       "      <td>2021/04/01</td>\n",
       "      <td>確定</td>\n",
       "      <td>NaN</td>\n",
       "      <td>NaN</td>\n",
       "      <td>各種減免（対象は上記リンクよりご確認ください）※ ［1名］</td>\n",
       "      <td>NaN</td>\n",
       "      <td>600.0</td>\n",
       "      <td>-600.0</td>\n",
       "      <td>NaN</td>\n",
       "      <td>NaN</td>\n",
       "    </tr>\n",
       "    <tr>\n",
       "      <th>19661</th>\n",
       "      <td>2021/04/01</td>\n",
       "      <td>来場予約</td>\n",
       "      <td>\\n喫茶付き入場券\\n</td>\n",
       "      <td>1</td>\n",
       "      <td>来場確認,決済済</td>\n",
       "      <td>2004/1/21 8:42</td>\n",
       "      <td>2021</td>\n",
       "      <td>4</td>\n",
       "      <td>1</td>\n",
       "      <td>2021/04/01</td>\n",
       "      <td>確定</td>\n",
       "      <td>NaN</td>\n",
       "      <td>NaN</td>\n",
       "      <td>一般入場 ［1名］</td>\n",
       "      <td>NaN</td>\n",
       "      <td>1600.0</td>\n",
       "      <td>NaN</td>\n",
       "      <td>1600.0</td>\n",
       "      <td>決済済み</td>\n",
       "    </tr>\n",
       "  </tbody>\n",
       "</table>\n",
       "<p>19662 rows × 19 columns</p>\n",
       "</div>"
      ],
      "text/plain": [
       "      entering_date reserve_content_1 reserve_content_2  n_person  \\\n",
       "0        2021/03/31              来場予約           喫茶付き入場券         1   \n",
       "1        2021/03/31              来場予約       \\n喫茶付き入場券\\n         1   \n",
       "2        2021/03/31              来場予約       \\n喫茶付き入場券\\n         2   \n",
       "3        2021/03/31              来場予約           \\n入場券\\n         2   \n",
       "4        2021/03/31              来場予約           \\n入場券\\n         2   \n",
       "...             ...               ...               ...       ...   \n",
       "19657    2021/04/01              来場予約           \\n入場券\\n         3   \n",
       "19658    2021/04/01              来場予約       \\n喫茶付き入場券\\n         1   \n",
       "19659    2021/04/01              来場予約           \\n入場券\\n         2   \n",
       "19660    2021/04/01              来場予約           \\n入場券\\n         1   \n",
       "19661    2021/04/01              来場予約       \\n喫茶付き入場券\\n         1   \n",
       "\n",
       "              admin_tag      accept_date  year  month  day reserved_date  \\\n",
       "0         来場確認,決済済,当日飛込    3/31/21 16:36  2021      3   31    2021/03/31   \n",
       "1         来場確認,決済済,当日飛込    3/31/21 16:53  2021      3   31    2021/03/31   \n",
       "2         来場確認,決済済,当日飛込    3/31/21 16:54  2021      3   31    2021/03/31   \n",
       "3         来場確認,決済済,当日飛込    3/31/21 16:28  2021      3   31    2021/03/31   \n",
       "4                   NaN    3/31/21 16:30  2021      3   31    2021/03/31   \n",
       "...                 ...              ...   ...    ...  ...           ...   \n",
       "19657     来場確認,決済済,当日飛込  2004/1/21 12:07  2021      4    1    2021/04/01   \n",
       "19658               NaN    3/31/21 18:22  2021      3   31    2021/03/31   \n",
       "19659  減免,来場確認,決済済,当日飛込  2004/1/21 12:06  2021      4    1    2021/04/01   \n",
       "19660      減免,来場確認,当日飛込   2004/1/21 9:45  2021      4    1    2021/04/01   \n",
       "19661          来場確認,決済済   2004/1/21 8:42  2021      4    1    2021/04/01   \n",
       "\n",
       "      status vistor_manage        manage_memo                  manage_memo_2  \\\n",
       "0         確定           NaN                NaN                            NaN   \n",
       "1         確定           NaN                NaN                            NaN   \n",
       "2         確定           NaN                NaN                            NaN   \n",
       "3         確定           NaN                NaN                            NaN   \n",
       "4         確定           NaN                NaN                            NaN   \n",
       "...      ...           ...                ...                            ...   \n",
       "19657     確定           NaN                NaN                            NaN   \n",
       "19658     確定           NaN               敬老パス  各種減免（対象は上記リンクよりご確認ください）※ ［1名］   \n",
       "19659     確定           NaN  うち1名キャンパス文化パートナーズ                            NaN   \n",
       "19660     確定           NaN                NaN  各種減免（対象は上記リンクよりご確認ください）※ ［1名］   \n",
       "19661     確定           NaN                NaN                      一般入場 ［1名］   \n",
       "\n",
       "       reservation_type  amount  discaunt  preamount payment_status  \n",
       "0                   NaN  1600.0       NaN        NaN            NaN  \n",
       "1                   NaN  1600.0       NaN        NaN            NaN  \n",
       "2                   NaN  3200.0       NaN        NaN            NaN  \n",
       "3                   NaN  1200.0       NaN        NaN            NaN  \n",
       "4                   NaN  1200.0       NaN        NaN            NaN  \n",
       "...                 ...     ...       ...        ...            ...  \n",
       "19657               NaN  1800.0       NaN        NaN            NaN  \n",
       "19658               NaN  1600.0    -600.0     1000.0           決済済み  \n",
       "19659               NaN  1200.0       NaN        NaN            NaN  \n",
       "19660               NaN   600.0    -600.0        NaN            NaN  \n",
       "19661               NaN  1600.0       NaN     1600.0           決済済み  \n",
       "\n",
       "[19662 rows x 19 columns]"
      ]
     },
     "execution_count": 3,
     "metadata": {},
     "output_type": "execute_result"
    }
   ],
   "source": [
    "original_data"
   ]
  },
  {
   "cell_type": "code",
   "execution_count": 4,
   "id": "b5d30d87-30ed-499a-b4d1-4a0c62cdb3b0",
   "metadata": {},
   "outputs": [
    {
     "name": "stdout",
     "output_type": "stream",
     "text": [
      "<class 'pandas.core.frame.DataFrame'>\n",
      "RangeIndex: 19662 entries, 0 to 19661\n",
      "Data columns (total 19 columns):\n",
      " #   Column             Non-Null Count  Dtype  \n",
      "---  ------             --------------  -----  \n",
      " 0   entering_date      19662 non-null  object \n",
      " 1   reserve_content_1  19662 non-null  object \n",
      " 2   reserve_content_2  19421 non-null  object \n",
      " 3   n_person           19662 non-null  int64  \n",
      " 4   admin_tag          17056 non-null  object \n",
      " 5   accept_date        19662 non-null  object \n",
      " 6   year               19662 non-null  int64  \n",
      " 7   month              19662 non-null  int64  \n",
      " 8   day                19662 non-null  int64  \n",
      " 9   reserved_date      19662 non-null  object \n",
      " 10  status             19662 non-null  object \n",
      " 11  vistor_manage      1 non-null      object \n",
      " 12  manage_memo        2457 non-null   object \n",
      " 13  manage_memo_2      11039 non-null  object \n",
      " 14  reservation_type   0 non-null      float64\n",
      " 15  amount             19421 non-null  float64\n",
      " 16  discaunt           2311 non-null   float64\n",
      " 17  preamount          9629 non-null   float64\n",
      " 18  payment_status     9629 non-null   object \n",
      "dtypes: float64(4), int64(4), object(11)\n",
      "memory usage: 2.9+ MB\n"
     ]
    }
   ],
   "source": [
    "original_data.info()"
   ]
  },
  {
   "cell_type": "markdown",
   "id": "545ee166-ccb8-4c94-b7d4-2a07fac80ecc",
   "metadata": {},
   "source": [
    "# columns整形"
   ]
  },
  {
   "cell_type": "markdown",
   "id": "f39103f6-f157-4df8-9610-4697e97e02fb",
   "metadata": {},
   "source": [
    "## entering_data\n",
    "\n",
    "object→datetime"
   ]
  },
  {
   "cell_type": "code",
   "execution_count": 5,
   "id": "f86e54b3-e2fb-4e95-a519-20cf0438f3c3",
   "metadata": {},
   "outputs": [
    {
     "data": {
      "text/plain": [
       "0    2021/03/31\n",
       "1    2021/03/31\n",
       "2    2021/03/31\n",
       "3    2021/03/31\n",
       "4    2021/03/31\n",
       "Name: entering_date, dtype: object"
      ]
     },
     "execution_count": 5,
     "metadata": {},
     "output_type": "execute_result"
    }
   ],
   "source": [
    "original_data['entering_date'].head()"
   ]
  },
  {
   "cell_type": "code",
   "execution_count": 6,
   "id": "8efb8059-ded9-4258-9275-ebcb4f964c46",
   "metadata": {},
   "outputs": [],
   "source": [
    "original_data['entering_date'] = pd.to_datetime(original_data['entering_date'])"
   ]
  },
  {
   "cell_type": "markdown",
   "id": "7a9beadf-36c7-4fc9-af06-dc5ef6fbc659",
   "metadata": {},
   "source": [
    "## reserve_content_1\n",
    "\n",
    "全て来場予約なので削除"
   ]
  },
  {
   "cell_type": "code",
   "execution_count": 7,
   "id": "a7f2a5a7-006b-4ed3-ba9f-40e50036fba8",
   "metadata": {},
   "outputs": [
    {
     "data": {
      "text/plain": [
       "count     19662\n",
       "unique        1\n",
       "top        来場予約\n",
       "freq      19662\n",
       "Name: reserve_content_1, dtype: object"
      ]
     },
     "execution_count": 7,
     "metadata": {},
     "output_type": "execute_result"
    }
   ],
   "source": [
    "original_data['reserve_content_1'].describe()"
   ]
  },
  {
   "cell_type": "code",
   "execution_count": 8,
   "id": "0b496d2d-6e02-478f-a898-0d597dcc3182",
   "metadata": {},
   "outputs": [],
   "source": [
    "original_data = original_data.drop('reserve_content_1', axis=1)"
   ]
  },
  {
   "cell_type": "markdown",
   "id": "a2f8f6e9-57ee-4052-9a73-ae4cff311171",
   "metadata": {},
   "source": [
    "## reserve_content_2"
   ]
  },
  {
   "cell_type": "code",
   "execution_count": 9,
   "id": "df46d337-6749-4363-967c-6a72be0fc3e8",
   "metadata": {},
   "outputs": [
    {
     "data": {
      "text/plain": [
       "241"
      ]
     },
     "execution_count": 9,
     "metadata": {},
     "output_type": "execute_result"
    }
   ],
   "source": [
    "original_data['reserve_content_2'].isnull().sum()"
   ]
  },
  {
   "cell_type": "code",
   "execution_count": 10,
   "id": "dc9bc284-6844-4e46-af74-468d2a51fdf9",
   "metadata": {},
   "outputs": [
    {
     "data": {
      "text/plain": [
       "array(['喫茶付き入場券', '\\n喫茶付き入場券\\n', '\\n入場券\\n', nan, '\\n（旧）喫茶とお土産付き入場券\\n',\n",
       "       '\\n（旧）喫茶付き入場券\\n', '\\n喫茶とお土産付き入場券\\n'], dtype=object)"
      ]
     },
     "execution_count": 10,
     "metadata": {},
     "output_type": "execute_result"
    }
   ],
   "source": [
    "original_data['reserve_content_2'].unique()"
   ]
  },
  {
   "cell_type": "code",
   "execution_count": 11,
   "id": "66700b3e-7290-450f-a2b2-5ff3b99d01ce",
   "metadata": {},
   "outputs": [],
   "source": [
    "original_data.loc[(original_data['reserve_content_2']=='喫茶付き入場券'), 'reserve_content_2'] = '\\n喫茶付き入場券\\n'"
   ]
  },
  {
   "cell_type": "code",
   "execution_count": 12,
   "id": "33198f7a-abfb-42fc-9287-18ebbaf5d804",
   "metadata": {},
   "outputs": [
    {
     "data": {
      "text/plain": [
       "array(['\\n喫茶付き入場券\\n', '\\n入場券\\n', nan, '\\n（旧）喫茶とお土産付き入場券\\n',\n",
       "       '\\n（旧）喫茶付き入場券\\n', '\\n喫茶とお土産付き入場券\\n'], dtype=object)"
      ]
     },
     "execution_count": 12,
     "metadata": {},
     "output_type": "execute_result"
    }
   ],
   "source": [
    "original_data['reserve_content_2'].unique()"
   ]
  },
  {
   "cell_type": "code",
   "execution_count": 13,
   "id": "a9452bed-a675-4b55-8c29-2e85e9346ca0",
   "metadata": {},
   "outputs": [
    {
     "data": {
      "text/html": [
       "<div>\n",
       "<style scoped>\n",
       "    .dataframe tbody tr th:only-of-type {\n",
       "        vertical-align: middle;\n",
       "    }\n",
       "\n",
       "    .dataframe tbody tr th {\n",
       "        vertical-align: top;\n",
       "    }\n",
       "\n",
       "    .dataframe thead th {\n",
       "        text-align: right;\n",
       "    }\n",
       "</style>\n",
       "<table border=\"1\" class=\"dataframe\">\n",
       "  <thead>\n",
       "    <tr style=\"text-align: right;\">\n",
       "      <th></th>\n",
       "      <th>entering_date</th>\n",
       "      <th>reserve_content_2</th>\n",
       "      <th>n_person</th>\n",
       "      <th>admin_tag</th>\n",
       "      <th>accept_date</th>\n",
       "      <th>year</th>\n",
       "      <th>month</th>\n",
       "      <th>day</th>\n",
       "      <th>reserved_date</th>\n",
       "      <th>status</th>\n",
       "      <th>vistor_manage</th>\n",
       "      <th>manage_memo</th>\n",
       "      <th>manage_memo_2</th>\n",
       "      <th>reservation_type</th>\n",
       "      <th>amount</th>\n",
       "      <th>discaunt</th>\n",
       "      <th>preamount</th>\n",
       "      <th>payment_status</th>\n",
       "    </tr>\n",
       "  </thead>\n",
       "  <tbody>\n",
       "  </tbody>\n",
       "</table>\n",
       "</div>"
      ],
      "text/plain": [
       "Empty DataFrame\n",
       "Columns: [entering_date, reserve_content_2, n_person, admin_tag, accept_date, year, month, day, reserved_date, status, vistor_manage, manage_memo, manage_memo_2, reservation_type, amount, discaunt, preamount, payment_status]\n",
       "Index: []"
      ]
     },
     "execution_count": 13,
     "metadata": {},
     "output_type": "execute_result"
    }
   ],
   "source": [
    "original_data[original_data['reserve_content_2']=='nan']"
   ]
  },
  {
   "cell_type": "markdown",
   "id": "c672e017-507a-474a-a1e5-055152a9b626",
   "metadata": {},
   "source": [
    "入場券 = 1, 喫茶付き入場券 = 2, 喫茶とお土産付き入場券 = 3,（旧）喫茶付き入場券 = 4, （旧）喫茶とお土産付き入場券 = 5  \n",
    "null = -1 基本的には当日飛び込みの方になる"
   ]
  },
  {
   "cell_type": "code",
   "execution_count": 14,
   "id": "31f9298a-44d6-4b21-84cd-35fb4d84aae8",
   "metadata": {},
   "outputs": [],
   "source": [
    "original_data.loc[(original_data['reserve_content_2']=='\\n入場券\\n'), 'reserve_content_2'] = 1\n",
    "original_data.loc[(original_data['reserve_content_2']=='\\n喫茶付き入場券\\n'), 'reserve_content_2'] = 2\n",
    "original_data.loc[(original_data['reserve_content_2']=='\\n喫茶とお土産付き入場券\\n'), 'reserve_content_2'] = 3\n",
    "original_data.loc[(original_data['reserve_content_2']=='\\n（旧）喫茶付き入場券\\n'), 'reserve_content_2'] = 4\n",
    "original_data.loc[(original_data['reserve_content_2']=='\\n（旧）喫茶とお土産付き入場券\\n'), 'reserve_content_2'] = 5\n",
    "original_data.loc[(original_data['reserve_content_2']=='nan'), 'reserve_content_2'] = -1\n",
    "original_data['reserve_content_2'].fillna(-1, inplace=True)"
   ]
  },
  {
   "cell_type": "code",
   "execution_count": 15,
   "id": "e8ca2a8a-2f59-4f38-98f5-3d82033f52bd",
   "metadata": {},
   "outputs": [
    {
     "name": "stdout",
     "output_type": "stream",
     "text": [
      "<class 'pandas.core.frame.DataFrame'>\n",
      "RangeIndex: 19662 entries, 0 to 19661\n",
      "Data columns (total 18 columns):\n",
      " #   Column             Non-Null Count  Dtype         \n",
      "---  ------             --------------  -----         \n",
      " 0   entering_date      19662 non-null  datetime64[ns]\n",
      " 1   reserve_content_2  19662 non-null  int64         \n",
      " 2   n_person           19662 non-null  int64         \n",
      " 3   admin_tag          17056 non-null  object        \n",
      " 4   accept_date        19662 non-null  object        \n",
      " 5   year               19662 non-null  int64         \n",
      " 6   month              19662 non-null  int64         \n",
      " 7   day                19662 non-null  int64         \n",
      " 8   reserved_date      19662 non-null  object        \n",
      " 9   status             19662 non-null  object        \n",
      " 10  vistor_manage      1 non-null      object        \n",
      " 11  manage_memo        2457 non-null   object        \n",
      " 12  manage_memo_2      11039 non-null  object        \n",
      " 13  reservation_type   0 non-null      float64       \n",
      " 14  amount             19421 non-null  float64       \n",
      " 15  discaunt           2311 non-null   float64       \n",
      " 16  preamount          9629 non-null   float64       \n",
      " 17  payment_status     9629 non-null   object        \n",
      "dtypes: datetime64[ns](1), float64(4), int64(5), object(8)\n",
      "memory usage: 2.7+ MB\n"
     ]
    }
   ],
   "source": [
    "original_data.info()"
   ]
  },
  {
   "cell_type": "markdown",
   "id": "a370001f-692c-4cf4-8697-c5befa2d0ef8",
   "metadata": {},
   "source": [
    "## n_person"
   ]
  },
  {
   "cell_type": "code",
   "execution_count": 16,
   "id": "50723ece-442f-47fc-95b1-309d9819bb29",
   "metadata": {},
   "outputs": [
    {
     "data": {
      "text/plain": [
       "count    19662.000000\n",
       "mean         2.124352\n",
       "std          2.745286\n",
       "min          1.000000\n",
       "25%          1.000000\n",
       "50%          2.000000\n",
       "75%          2.000000\n",
       "max         43.000000\n",
       "Name: n_person, dtype: float64"
      ]
     },
     "execution_count": 16,
     "metadata": {},
     "output_type": "execute_result"
    }
   ],
   "source": [
    "original_data['n_person'].describe()"
   ]
  },
  {
   "cell_type": "markdown",
   "id": "1dbc43dd-cdc0-48fe-a78a-98e8ac43d658",
   "metadata": {},
   "source": [
    "## admin_tag"
   ]
  },
  {
   "cell_type": "code",
   "execution_count": 17,
   "id": "a8aa0e69-83a1-4e2c-9380-9782508cf6e7",
   "metadata": {},
   "outputs": [
    {
     "data": {
      "text/plain": [
       "array(['来場確認,決済済,当日飛込', nan, '来場確認', '減免,来場確認,決済済,当日飛込', '来場確認,決済済',\n",
       "       '【確定】電話予約', '当日飛込,来場確認,決済済', '当日飛込', '決済済,当日飛込', '来場確認,【確定】電話予約',\n",
       "       '当日飛込,決済済,来場確認', '来場確認,当日飛込,決済済', '決済済', '来場確認,決済済,【確定】電話予約',\n",
       "       '減免,来場確認,決済済', '来場確認,決済済,当日飛込,減免', '減免,当日飛込,来場確認,決済済',\n",
       "       '減免,来場確認,当日飛込,決済済', '決済済,来場確認', '当日飛込,来場確認', '来場確認,当日飛込',\n",
       "       '決済済,来場確認,当日飛込', '決済済,来場確認,【確定】電話予約', '決済済,当日飛込,来場確認',\n",
       "       '減免,当日飛込,決済済,来場確認', '減免,来場確認,当日飛込', '減免,当日飛込,来場確認', '減免,来場確認',\n",
       "       '減免,当日飛込', '当日飛込,来場確認,決済済,減免', '減免,【確定】電話予約', '来場確認,減免',\n",
       "       '当日飛込,決済済,来場確認,減免', '当日飛込,決済済,来場確認,【確定】電話予約',\n",
       "       '決済済,当日飛込,来場確認,【確定】電話予約', '来場確認,減免,当日飛込', '当日飛込,減免,来場確認',\n",
       "       '来場確認,決済済,銀行振込・後納', '来場確認,減免,決済済,当日飛込', '来場確認,決済済,当日飛込,【確定】電話予約',\n",
       "       '★新型コロナウィルスCXL,知財ツアー,銀行振込・後納', '当日飛込,決済済', '来場確認,決済済,減免',\n",
       "       '決済済,来場確認,減免,【確定】電話予約,当日飛込', '当日飛込,減免', '【確定】電話予約,来場確認,決済済',\n",
       "       '減免,来場確認,決済済,【確定】電話予約', '来場確認,減免,【確定】電話予約', '来場確認,決済済,減免,【確定】電話予約',\n",
       "       '【確定】電話予約,決済済,来場確認', '減免,決済済,【確定】電話予約,来場確認', '来場確認,【申請書未】電話予約',\n",
       "       '来場確認,減免,当日飛込,決済済', '【確定】電話予約,来場確認', '来場確認,当日飛込,減免',\n",
       "       '来場確認,当日飛込,決済済,減免', '本社経費', '来場確認,決済済,【確定】電話予約,当日飛込',\n",
       "       '当日飛込,来場確認,減免', '知財ツアー', '減免,来場確認,【確定】電話予約', '決済済,【確定】電話予約,来場確認',\n",
       "       '本社経費,本社関係者', '決済済,来場確認,減免,【確定】電話予約', '★新型コロナウィルスCXL', '撮影・取材',\n",
       "       '減免', '減免,当日飛込,決済済,【確定】電話予約', '減免,決済済', '減免,決済済,当日飛込,来場確認',\n",
       "       '来場確認,【確定】電話予約,決済済', '★新型コロナウィルスCXL,知財ツアー', '来場確認,知財ツアー',\n",
       "       '！！承認保留！！', '来場確認,当日飛込,減免,決済済', '減免,決済済,当日飛込,【確定】電話予約',\n",
       "       '【申請書未】電話予約', '来場確認,減免,決済済', '決済済,【確定】電話予約', '来場確認,社長案件',\n",
       "       '来場確認,撮影・取材', '来場確認,【確定】電話予約,当日飛込', '【確定】電話予約,決済済',\n",
       "       '来場確認,【確定】電話予約,減免', '社長案件,撮影・取材,減免', '当日飛込,来場確認,決済済,【確定】電話予約',\n",
       "       '減免,決済済,来場確認', '決済済,当日飛込,！！承認保留！！', '来場確認,撮影・取材,社長案件',\n",
       "       '本社関係者,社長案件', '来場確認,決済済,減免,当日飛込', '決済済,当日飛込,減免',\n",
       "       '減免,来場確認,決済済,旧料金,【確定】電話予約', '【確定】電話予約,来場確認,決済済,当日飛込', '社長案件',\n",
       "       '当日飛込,来場確認,減免,決済済', '決済済,当日飛込,来場確認,減免', '決済済,来場確認,【確定】電話予約,当日飛込',\n",
       "       '本社関係者', '来場確認,本社関係者', '当日飛込,決済済,【確定】電話予約', '打ち合わせ,減免',\n",
       "       '減免,当日飛込,決済済', '【確定】電話予約,減免', '来場確認,決済済,撮影・取材', '社長案件,本社関係者,本社経費',\n",
       "       '減免,決済済,来場確認,【確定】電話予約', '来場確認,決済済,社長案件', '撮影・取材,打ち合わせ',\n",
       "       '減免,決済済,来場確認,当日飛込', '【確定】電話予約,当日飛込', '来場確認,決済済,本社関係者',\n",
       "       '来場確認,本社関係者,本社経費', '本社関係者,本社経費', '来場確認,銀行振込・後納',\n",
       "       '決済済,来場確認,減免,当日飛込', '決済済,減免,当日飛込,来場確認', '減免,決済済,当日飛込',\n",
       "       '本社来送,【確定】電話予約', '決済済,来場確認,減免', '来場確認,本社来送,本社関係者', '決済済,減免,来場確認',\n",
       "       '決済済,減免,【確定】電話予約,来場確認', '来場確認,本社関係者,決済済', '決済済,本社関係者',\n",
       "       '銀行振込・後納,【確定】電話予約', '銀行振込・後納', '社長案件,本社関係者', '来場確認,イベント,決済済',\n",
       "       '決済済,来場確認,銀行振込・後納', '来場確認,！！承認保留！！', '【確定】電話予約,減免,来場確認,当日飛込',\n",
       "       '来場確認,【確定】電話予約,銀行振込・後納', '来場確認,決済済,【確定】電話予約,減免',\n",
       "       '減免,来場確認,決済済,当日飛込,【確定】電話予約', '本社関係者,当日飛込,決済済', '来場確認,社長案件,本社関係者',\n",
       "       '本社来送,社長案件', '【申請書未】電話予約,来場確認,決済済,当日飛込', '減免,来場確認,当日飛込,【確定】電話予約',\n",
       "       '★新型コロナウィルスCXL,本社経費', '★新型コロナウィルスCXL,社長案件,本社関係者',\n",
       "       '★新型コロナウィルスCXL,本社関係者,社長案件', '★新型コロナウィルスCXL,【確定】電話予約',\n",
       "       '決済済,来場確認,当日飛込,【確定】電話予約', '【確定】電話予約,決済済,来場確認,当日飛込',\n",
       "       '決済済,来場確認,【確定】電話予約,減免', '社長案件,本社来送,本社経費', '当日飛込,【確定】電話予約',\n",
       "       '減免,打ち合わせ', '知財ツアー,本社関係者,社長案件', '決済済,来場確認,当日飛込,減免',\n",
       "       '社長案件,本社関係者,当日飛込,来場確認', '★新型コロナウィルスCXL,【確定】電話予約,本社関係者,社長案件',\n",
       "       '★新型コロナウィルスCXL,【確定】電話予約,減免', '決済済,当日飛込,減免,来場確認', '本社経費,来場確認,決済済',\n",
       "       '来場確認,【確定】電話予約,当日飛込,決済済'], dtype=object)"
      ]
     },
     "execution_count": 17,
     "metadata": {},
     "output_type": "execute_result"
    }
   ],
   "source": [
    "original_data['admin_tag'].unique()"
   ]
  },
  {
   "cell_type": "code",
   "execution_count": 18,
   "id": "10871e51-19a5-40af-9338-62445f6e2d4e",
   "metadata": {},
   "outputs": [],
   "source": [
    "names = ['来場確認', '決済済', '当日飛込', '減免', '【確定】電話予約', '★新型コロナウィルスCXL', '知財ツアー', '銀行振込・後納', '社長案件', '！！承認保留！！', \n",
    "         '本社関係者', '撮影・取材', '本社経費', '【申請書未】電話予約', '本社来送', '本社経費', '打ち合わせ']"
   ]
  },
  {
   "cell_type": "code",
   "execution_count": 19,
   "id": "41f51fd4-2c9a-4ef4-a3a5-cdb662a562c9",
   "metadata": {},
   "outputs": [],
   "source": [
    "for i, name in enumerate(names):\n",
    "    new_col = 'admin_tag_' + name\n",
    "    original_data[new_col] = original_data['admin_tag'].str.contains(name, na=False)\n",
    "    original_data[new_col] = original_data[new_col].apply(lambda x: 1 if x else 0)"
   ]
  },
  {
   "cell_type": "code",
   "execution_count": 20,
   "id": "40be9359-a6f0-447b-8521-7709d41cdffe",
   "metadata": {},
   "outputs": [
    {
     "data": {
      "text/html": [
       "<div>\n",
       "<style scoped>\n",
       "    .dataframe tbody tr th:only-of-type {\n",
       "        vertical-align: middle;\n",
       "    }\n",
       "\n",
       "    .dataframe tbody tr th {\n",
       "        vertical-align: top;\n",
       "    }\n",
       "\n",
       "    .dataframe thead th {\n",
       "        text-align: right;\n",
       "    }\n",
       "</style>\n",
       "<table border=\"1\" class=\"dataframe\">\n",
       "  <thead>\n",
       "    <tr style=\"text-align: right;\">\n",
       "      <th></th>\n",
       "      <th>entering_date</th>\n",
       "      <th>reserve_content_2</th>\n",
       "      <th>n_person</th>\n",
       "      <th>admin_tag</th>\n",
       "      <th>accept_date</th>\n",
       "      <th>year</th>\n",
       "      <th>month</th>\n",
       "      <th>day</th>\n",
       "      <th>reserved_date</th>\n",
       "      <th>status</th>\n",
       "      <th>...</th>\n",
       "      <th>admin_tag_知財ツアー</th>\n",
       "      <th>admin_tag_銀行振込・後納</th>\n",
       "      <th>admin_tag_社長案件</th>\n",
       "      <th>admin_tag_！！承認保留！！</th>\n",
       "      <th>admin_tag_本社関係者</th>\n",
       "      <th>admin_tag_撮影・取材</th>\n",
       "      <th>admin_tag_本社経費</th>\n",
       "      <th>admin_tag_【申請書未】電話予約</th>\n",
       "      <th>admin_tag_本社来送</th>\n",
       "      <th>admin_tag_打ち合わせ</th>\n",
       "    </tr>\n",
       "  </thead>\n",
       "  <tbody>\n",
       "    <tr>\n",
       "      <th>0</th>\n",
       "      <td>2021-03-31</td>\n",
       "      <td>2</td>\n",
       "      <td>1</td>\n",
       "      <td>来場確認,決済済,当日飛込</td>\n",
       "      <td>3/31/21 16:36</td>\n",
       "      <td>2021</td>\n",
       "      <td>3</td>\n",
       "      <td>31</td>\n",
       "      <td>2021/03/31</td>\n",
       "      <td>確定</td>\n",
       "      <td>...</td>\n",
       "      <td>0</td>\n",
       "      <td>0</td>\n",
       "      <td>0</td>\n",
       "      <td>0</td>\n",
       "      <td>0</td>\n",
       "      <td>0</td>\n",
       "      <td>0</td>\n",
       "      <td>0</td>\n",
       "      <td>0</td>\n",
       "      <td>0</td>\n",
       "    </tr>\n",
       "    <tr>\n",
       "      <th>1</th>\n",
       "      <td>2021-03-31</td>\n",
       "      <td>2</td>\n",
       "      <td>1</td>\n",
       "      <td>来場確認,決済済,当日飛込</td>\n",
       "      <td>3/31/21 16:53</td>\n",
       "      <td>2021</td>\n",
       "      <td>3</td>\n",
       "      <td>31</td>\n",
       "      <td>2021/03/31</td>\n",
       "      <td>確定</td>\n",
       "      <td>...</td>\n",
       "      <td>0</td>\n",
       "      <td>0</td>\n",
       "      <td>0</td>\n",
       "      <td>0</td>\n",
       "      <td>0</td>\n",
       "      <td>0</td>\n",
       "      <td>0</td>\n",
       "      <td>0</td>\n",
       "      <td>0</td>\n",
       "      <td>0</td>\n",
       "    </tr>\n",
       "    <tr>\n",
       "      <th>2</th>\n",
       "      <td>2021-03-31</td>\n",
       "      <td>2</td>\n",
       "      <td>2</td>\n",
       "      <td>来場確認,決済済,当日飛込</td>\n",
       "      <td>3/31/21 16:54</td>\n",
       "      <td>2021</td>\n",
       "      <td>3</td>\n",
       "      <td>31</td>\n",
       "      <td>2021/03/31</td>\n",
       "      <td>確定</td>\n",
       "      <td>...</td>\n",
       "      <td>0</td>\n",
       "      <td>0</td>\n",
       "      <td>0</td>\n",
       "      <td>0</td>\n",
       "      <td>0</td>\n",
       "      <td>0</td>\n",
       "      <td>0</td>\n",
       "      <td>0</td>\n",
       "      <td>0</td>\n",
       "      <td>0</td>\n",
       "    </tr>\n",
       "    <tr>\n",
       "      <th>3</th>\n",
       "      <td>2021-03-31</td>\n",
       "      <td>1</td>\n",
       "      <td>2</td>\n",
       "      <td>来場確認,決済済,当日飛込</td>\n",
       "      <td>3/31/21 16:28</td>\n",
       "      <td>2021</td>\n",
       "      <td>3</td>\n",
       "      <td>31</td>\n",
       "      <td>2021/03/31</td>\n",
       "      <td>確定</td>\n",
       "      <td>...</td>\n",
       "      <td>0</td>\n",
       "      <td>0</td>\n",
       "      <td>0</td>\n",
       "      <td>0</td>\n",
       "      <td>0</td>\n",
       "      <td>0</td>\n",
       "      <td>0</td>\n",
       "      <td>0</td>\n",
       "      <td>0</td>\n",
       "      <td>0</td>\n",
       "    </tr>\n",
       "    <tr>\n",
       "      <th>4</th>\n",
       "      <td>2021-03-31</td>\n",
       "      <td>1</td>\n",
       "      <td>2</td>\n",
       "      <td>NaN</td>\n",
       "      <td>3/31/21 16:30</td>\n",
       "      <td>2021</td>\n",
       "      <td>3</td>\n",
       "      <td>31</td>\n",
       "      <td>2021/03/31</td>\n",
       "      <td>確定</td>\n",
       "      <td>...</td>\n",
       "      <td>0</td>\n",
       "      <td>0</td>\n",
       "      <td>0</td>\n",
       "      <td>0</td>\n",
       "      <td>0</td>\n",
       "      <td>0</td>\n",
       "      <td>0</td>\n",
       "      <td>0</td>\n",
       "      <td>0</td>\n",
       "      <td>0</td>\n",
       "    </tr>\n",
       "    <tr>\n",
       "      <th>...</th>\n",
       "      <td>...</td>\n",
       "      <td>...</td>\n",
       "      <td>...</td>\n",
       "      <td>...</td>\n",
       "      <td>...</td>\n",
       "      <td>...</td>\n",
       "      <td>...</td>\n",
       "      <td>...</td>\n",
       "      <td>...</td>\n",
       "      <td>...</td>\n",
       "      <td>...</td>\n",
       "      <td>...</td>\n",
       "      <td>...</td>\n",
       "      <td>...</td>\n",
       "      <td>...</td>\n",
       "      <td>...</td>\n",
       "      <td>...</td>\n",
       "      <td>...</td>\n",
       "      <td>...</td>\n",
       "      <td>...</td>\n",
       "      <td>...</td>\n",
       "    </tr>\n",
       "    <tr>\n",
       "      <th>19657</th>\n",
       "      <td>2021-04-01</td>\n",
       "      <td>1</td>\n",
       "      <td>3</td>\n",
       "      <td>来場確認,決済済,当日飛込</td>\n",
       "      <td>2004/1/21 12:07</td>\n",
       "      <td>2021</td>\n",
       "      <td>4</td>\n",
       "      <td>1</td>\n",
       "      <td>2021/04/01</td>\n",
       "      <td>確定</td>\n",
       "      <td>...</td>\n",
       "      <td>0</td>\n",
       "      <td>0</td>\n",
       "      <td>0</td>\n",
       "      <td>0</td>\n",
       "      <td>0</td>\n",
       "      <td>0</td>\n",
       "      <td>0</td>\n",
       "      <td>0</td>\n",
       "      <td>0</td>\n",
       "      <td>0</td>\n",
       "    </tr>\n",
       "    <tr>\n",
       "      <th>19658</th>\n",
       "      <td>2021-04-01</td>\n",
       "      <td>2</td>\n",
       "      <td>1</td>\n",
       "      <td>NaN</td>\n",
       "      <td>3/31/21 18:22</td>\n",
       "      <td>2021</td>\n",
       "      <td>3</td>\n",
       "      <td>31</td>\n",
       "      <td>2021/03/31</td>\n",
       "      <td>確定</td>\n",
       "      <td>...</td>\n",
       "      <td>0</td>\n",
       "      <td>0</td>\n",
       "      <td>0</td>\n",
       "      <td>0</td>\n",
       "      <td>0</td>\n",
       "      <td>0</td>\n",
       "      <td>0</td>\n",
       "      <td>0</td>\n",
       "      <td>0</td>\n",
       "      <td>0</td>\n",
       "    </tr>\n",
       "    <tr>\n",
       "      <th>19659</th>\n",
       "      <td>2021-04-01</td>\n",
       "      <td>1</td>\n",
       "      <td>2</td>\n",
       "      <td>減免,来場確認,決済済,当日飛込</td>\n",
       "      <td>2004/1/21 12:06</td>\n",
       "      <td>2021</td>\n",
       "      <td>4</td>\n",
       "      <td>1</td>\n",
       "      <td>2021/04/01</td>\n",
       "      <td>確定</td>\n",
       "      <td>...</td>\n",
       "      <td>0</td>\n",
       "      <td>0</td>\n",
       "      <td>0</td>\n",
       "      <td>0</td>\n",
       "      <td>0</td>\n",
       "      <td>0</td>\n",
       "      <td>0</td>\n",
       "      <td>0</td>\n",
       "      <td>0</td>\n",
       "      <td>0</td>\n",
       "    </tr>\n",
       "    <tr>\n",
       "      <th>19660</th>\n",
       "      <td>2021-04-01</td>\n",
       "      <td>1</td>\n",
       "      <td>1</td>\n",
       "      <td>減免,来場確認,当日飛込</td>\n",
       "      <td>2004/1/21 9:45</td>\n",
       "      <td>2021</td>\n",
       "      <td>4</td>\n",
       "      <td>1</td>\n",
       "      <td>2021/04/01</td>\n",
       "      <td>確定</td>\n",
       "      <td>...</td>\n",
       "      <td>0</td>\n",
       "      <td>0</td>\n",
       "      <td>0</td>\n",
       "      <td>0</td>\n",
       "      <td>0</td>\n",
       "      <td>0</td>\n",
       "      <td>0</td>\n",
       "      <td>0</td>\n",
       "      <td>0</td>\n",
       "      <td>0</td>\n",
       "    </tr>\n",
       "    <tr>\n",
       "      <th>19661</th>\n",
       "      <td>2021-04-01</td>\n",
       "      <td>2</td>\n",
       "      <td>1</td>\n",
       "      <td>来場確認,決済済</td>\n",
       "      <td>2004/1/21 8:42</td>\n",
       "      <td>2021</td>\n",
       "      <td>4</td>\n",
       "      <td>1</td>\n",
       "      <td>2021/04/01</td>\n",
       "      <td>確定</td>\n",
       "      <td>...</td>\n",
       "      <td>0</td>\n",
       "      <td>0</td>\n",
       "      <td>0</td>\n",
       "      <td>0</td>\n",
       "      <td>0</td>\n",
       "      <td>0</td>\n",
       "      <td>0</td>\n",
       "      <td>0</td>\n",
       "      <td>0</td>\n",
       "      <td>0</td>\n",
       "    </tr>\n",
       "  </tbody>\n",
       "</table>\n",
       "<p>19662 rows × 34 columns</p>\n",
       "</div>"
      ],
      "text/plain": [
       "      entering_date  reserve_content_2  n_person         admin_tag  \\\n",
       "0        2021-03-31                  2         1     来場確認,決済済,当日飛込   \n",
       "1        2021-03-31                  2         1     来場確認,決済済,当日飛込   \n",
       "2        2021-03-31                  2         2     来場確認,決済済,当日飛込   \n",
       "3        2021-03-31                  1         2     来場確認,決済済,当日飛込   \n",
       "4        2021-03-31                  1         2               NaN   \n",
       "...             ...                ...       ...               ...   \n",
       "19657    2021-04-01                  1         3     来場確認,決済済,当日飛込   \n",
       "19658    2021-04-01                  2         1               NaN   \n",
       "19659    2021-04-01                  1         2  減免,来場確認,決済済,当日飛込   \n",
       "19660    2021-04-01                  1         1      減免,来場確認,当日飛込   \n",
       "19661    2021-04-01                  2         1          来場確認,決済済   \n",
       "\n",
       "           accept_date  year  month  day reserved_date status  ...  \\\n",
       "0        3/31/21 16:36  2021      3   31    2021/03/31     確定  ...   \n",
       "1        3/31/21 16:53  2021      3   31    2021/03/31     確定  ...   \n",
       "2        3/31/21 16:54  2021      3   31    2021/03/31     確定  ...   \n",
       "3        3/31/21 16:28  2021      3   31    2021/03/31     確定  ...   \n",
       "4        3/31/21 16:30  2021      3   31    2021/03/31     確定  ...   \n",
       "...                ...   ...    ...  ...           ...    ...  ...   \n",
       "19657  2004/1/21 12:07  2021      4    1    2021/04/01     確定  ...   \n",
       "19658    3/31/21 18:22  2021      3   31    2021/03/31     確定  ...   \n",
       "19659  2004/1/21 12:06  2021      4    1    2021/04/01     確定  ...   \n",
       "19660   2004/1/21 9:45  2021      4    1    2021/04/01     確定  ...   \n",
       "19661   2004/1/21 8:42  2021      4    1    2021/04/01     確定  ...   \n",
       "\n",
       "      admin_tag_知財ツアー admin_tag_銀行振込・後納 admin_tag_社長案件  admin_tag_！！承認保留！！  \\\n",
       "0                   0                 0              0                   0   \n",
       "1                   0                 0              0                   0   \n",
       "2                   0                 0              0                   0   \n",
       "3                   0                 0              0                   0   \n",
       "4                   0                 0              0                   0   \n",
       "...               ...               ...            ...                 ...   \n",
       "19657               0                 0              0                   0   \n",
       "19658               0                 0              0                   0   \n",
       "19659               0                 0              0                   0   \n",
       "19660               0                 0              0                   0   \n",
       "19661               0                 0              0                   0   \n",
       "\n",
       "       admin_tag_本社関係者  admin_tag_撮影・取材  admin_tag_本社経費 admin_tag_【申請書未】電話予約  \\\n",
       "0                    0                0               0                    0   \n",
       "1                    0                0               0                    0   \n",
       "2                    0                0               0                    0   \n",
       "3                    0                0               0                    0   \n",
       "4                    0                0               0                    0   \n",
       "...                ...              ...             ...                  ...   \n",
       "19657                0                0               0                    0   \n",
       "19658                0                0               0                    0   \n",
       "19659                0                0               0                    0   \n",
       "19660                0                0               0                    0   \n",
       "19661                0                0               0                    0   \n",
       "\n",
       "       admin_tag_本社来送  admin_tag_打ち合わせ  \n",
       "0                   0                0  \n",
       "1                   0                0  \n",
       "2                   0                0  \n",
       "3                   0                0  \n",
       "4                   0                0  \n",
       "...               ...              ...  \n",
       "19657               0                0  \n",
       "19658               0                0  \n",
       "19659               0                0  \n",
       "19660               0                0  \n",
       "19661               0                0  \n",
       "\n",
       "[19662 rows x 34 columns]"
      ]
     },
     "execution_count": 20,
     "metadata": {},
     "output_type": "execute_result"
    }
   ],
   "source": [
    "original_data"
   ]
  },
  {
   "cell_type": "code",
   "execution_count": 21,
   "id": "8606c49e-b6ed-4a5b-8b63-9d32e1355989",
   "metadata": {},
   "outputs": [
    {
     "name": "stdout",
     "output_type": "stream",
     "text": [
      "<class 'pandas.core.frame.DataFrame'>\n",
      "RangeIndex: 19662 entries, 0 to 19661\n",
      "Data columns (total 34 columns):\n",
      " #   Column                   Non-Null Count  Dtype         \n",
      "---  ------                   --------------  -----         \n",
      " 0   entering_date            19662 non-null  datetime64[ns]\n",
      " 1   reserve_content_2        19662 non-null  int64         \n",
      " 2   n_person                 19662 non-null  int64         \n",
      " 3   admin_tag                17056 non-null  object        \n",
      " 4   accept_date              19662 non-null  object        \n",
      " 5   year                     19662 non-null  int64         \n",
      " 6   month                    19662 non-null  int64         \n",
      " 7   day                      19662 non-null  int64         \n",
      " 8   reserved_date            19662 non-null  object        \n",
      " 9   status                   19662 non-null  object        \n",
      " 10  vistor_manage            1 non-null      object        \n",
      " 11  manage_memo              2457 non-null   object        \n",
      " 12  manage_memo_2            11039 non-null  object        \n",
      " 13  reservation_type         0 non-null      float64       \n",
      " 14  amount                   19421 non-null  float64       \n",
      " 15  discaunt                 2311 non-null   float64       \n",
      " 16  preamount                9629 non-null   float64       \n",
      " 17  payment_status           9629 non-null   object        \n",
      " 18  admin_tag_来場確認           19662 non-null  int64         \n",
      " 19  admin_tag_決済済            19662 non-null  int64         \n",
      " 20  admin_tag_当日飛込           19662 non-null  int64         \n",
      " 21  admin_tag_減免             19662 non-null  int64         \n",
      " 22  admin_tag_【確定】電話予約       19662 non-null  int64         \n",
      " 23  admin_tag_★新型コロナウィルスCXL  19662 non-null  int64         \n",
      " 24  admin_tag_知財ツアー          19662 non-null  int64         \n",
      " 25  admin_tag_銀行振込・後納        19662 non-null  int64         \n",
      " 26  admin_tag_社長案件           19662 non-null  int64         \n",
      " 27  admin_tag_！！承認保留！！       19662 non-null  int64         \n",
      " 28  admin_tag_本社関係者          19662 non-null  int64         \n",
      " 29  admin_tag_撮影・取材          19662 non-null  int64         \n",
      " 30  admin_tag_本社経費           19662 non-null  int64         \n",
      " 31  admin_tag_【申請書未】電話予約     19662 non-null  int64         \n",
      " 32  admin_tag_本社来送           19662 non-null  int64         \n",
      " 33  admin_tag_打ち合わせ          19662 non-null  int64         \n",
      "dtypes: datetime64[ns](1), float64(4), int64(21), object(8)\n",
      "memory usage: 5.1+ MB\n"
     ]
    }
   ],
   "source": [
    "original_data.info()"
   ]
  },
  {
   "cell_type": "markdown",
   "id": "3d20f34b-2808-44e0-a1f3-622d5de45be6",
   "metadata": {},
   "source": [
    "## accept_date "
   ]
  },
  {
   "cell_type": "code",
   "execution_count": 22,
   "id": "e06b5171-85d2-42f0-909f-35d79ef38ddb",
   "metadata": {},
   "outputs": [
    {
     "data": {
      "text/plain": [
       "0          3/31/21 16:36\n",
       "1          3/31/21 16:53\n",
       "2          3/31/21 16:54\n",
       "3          3/31/21 16:28\n",
       "4          3/31/21 16:30\n",
       "              ...       \n",
       "19657    2004/1/21 12:07\n",
       "19658      3/31/21 18:22\n",
       "19659    2004/1/21 12:06\n",
       "19660     2004/1/21 9:45\n",
       "19661     2004/1/21 8:42\n",
       "Name: accept_date, Length: 19662, dtype: object"
      ]
     },
     "execution_count": 22,
     "metadata": {},
     "output_type": "execute_result"
    }
   ],
   "source": [
    "original_data['accept_date']"
   ]
  },
  {
   "cell_type": "code",
   "execution_count": 23,
   "id": "ecb23379-59ff-4815-b80a-155ba3577c5e",
   "metadata": {},
   "outputs": [],
   "source": [
    "original_data['accept_date'] = pd.to_datetime(original_data['accept_date'])"
   ]
  },
  {
   "cell_type": "code",
   "execution_count": 24,
   "id": "e9b3a8ff-5519-4664-a53b-2963581596dc",
   "metadata": {},
   "outputs": [
    {
     "data": {
      "text/plain": [
       "0       2021-03-31 16:36:00\n",
       "1       2021-03-31 16:53:00\n",
       "2       2021-03-31 16:54:00\n",
       "3       2021-03-31 16:28:00\n",
       "4       2021-03-31 16:30:00\n",
       "                ...        \n",
       "19657   2004-01-21 12:07:00\n",
       "19658   2021-03-31 18:22:00\n",
       "19659   2004-01-21 12:06:00\n",
       "19660   2004-01-21 09:45:00\n",
       "19661   2004-01-21 08:42:00\n",
       "Name: accept_date, Length: 19662, dtype: datetime64[ns]"
      ]
     },
     "execution_count": 24,
     "metadata": {},
     "output_type": "execute_result"
    }
   ],
   "source": [
    "original_data['accept_date']"
   ]
  },
  {
   "cell_type": "code",
   "execution_count": 25,
   "id": "0f4c6994-e0f8-4ec9-b1ee-333d34ca41eb",
   "metadata": {},
   "outputs": [
    {
     "data": {
      "text/plain": [
       "<AxesSubplot:>"
      ]
     },
     "execution_count": 25,
     "metadata": {},
     "output_type": "execute_result"
    },
    {
     "data": {
      "image/png": "[encoded data removed]",
      "text/plain": [
       "<Figure size 432x288 with 1 Axes>"
      ]
     },
     "metadata": {
      "needs_background": "light"
     },
     "output_type": "display_data"
    }
   ],
   "source": [
    "original_data['accept_date'].hist()"
   ]
  },
  {
   "cell_type": "markdown",
   "id": "fb3a0787-3763-49e1-b06c-61546d2ba989",
   "metadata": {},
   "source": [
    "悲しいことにデータはバグってる....　　  \n",
    "もらってる段階だと生きてるデータだが、どこでおかしくなった？  \n",
    "reserved_dateと同じデータになるので削除"
   ]
  },
  {
   "cell_type": "code",
   "execution_count": 26,
   "id": "5911c76f-c704-4d6b-8e35-61e52f661c8e",
   "metadata": {},
   "outputs": [],
   "source": [
    "original_data.drop('accept_date', axis=1, inplace=True)"
   ]
  },
  {
   "cell_type": "markdown",
   "id": "fddb49f0-0349-401e-9025-c77ba3e9b6bf",
   "metadata": {},
   "source": [
    "## year, month, day\n",
    "entering_dateがもっているのでとりあえず削除"
   ]
  },
  {
   "cell_type": "code",
   "execution_count": 27,
   "id": "403a7439-00e9-4d18-a0ae-f99dada9f58b",
   "metadata": {},
   "outputs": [],
   "source": [
    "original_data.drop(['year', 'month', 'day'], axis=1, inplace=True)"
   ]
  },
  {
   "cell_type": "markdown",
   "id": "eeae010e-2803-4002-898c-e6478850e097",
   "metadata": {},
   "source": [
    "## reserved_date"
   ]
  },
  {
   "cell_type": "code",
   "execution_count": 28,
   "id": "85bc0ea3-ae25-44b0-bad7-58274b56b271",
   "metadata": {},
   "outputs": [
    {
     "data": {
      "text/plain": [
       "0        2021/03/31\n",
       "1        2021/03/31\n",
       "2        2021/03/31\n",
       "3        2021/03/31\n",
       "4        2021/03/31\n",
       "            ...    \n",
       "19657    2021/04/01\n",
       "19658    2021/03/31\n",
       "19659    2021/04/01\n",
       "19660    2021/04/01\n",
       "19661    2021/04/01\n",
       "Name: reserved_date, Length: 19662, dtype: object"
      ]
     },
     "execution_count": 28,
     "metadata": {},
     "output_type": "execute_result"
    }
   ],
   "source": [
    "original_data['reserved_date']"
   ]
  },
  {
   "cell_type": "code",
   "execution_count": 29,
   "id": "e9cac858-3ed4-47d6-90e6-115ab436783c",
   "metadata": {},
   "outputs": [],
   "source": [
    "original_data['reserved_date'] = pd.to_datetime(original_data['reserved_date'])"
   ]
  },
  {
   "cell_type": "markdown",
   "id": "659b89ba-7ddb-4aa3-9ab5-81f646427687",
   "metadata": {},
   "source": [
    "## status"
   ]
  },
  {
   "cell_type": "code",
   "execution_count": 30,
   "id": "a7ee576b-ebb6-43d3-9959-869aa91e7adc",
   "metadata": {},
   "outputs": [
    {
     "data": {
      "text/plain": [
       "array(['確定', 'キャンセル'], dtype=object)"
      ]
     },
     "execution_count": 30,
     "metadata": {},
     "output_type": "execute_result"
    }
   ],
   "source": [
    "original_data['status'].unique()"
   ]
  },
  {
   "cell_type": "markdown",
   "id": "94f93cc3-1ee9-46e2-a2f7-2ae47bbc80f7",
   "metadata": {},
   "source": [
    "欠損値なしの2値なので  \n",
    "確定 = 1  \n",
    "キャンセル = 0  "
   ]
  },
  {
   "cell_type": "code",
   "execution_count": 31,
   "id": "cfde39ca-b2e4-4cbf-82f6-bd5e482254b9",
   "metadata": {},
   "outputs": [],
   "source": [
    "original_data.loc[(original_data['status']=='キャンセル'), 'status'] = 0\n",
    "original_data.loc[(original_data['status']=='確定'), 'status'] = 1"
   ]
  },
  {
   "cell_type": "code",
   "execution_count": 32,
   "id": "1dbfe827-8b00-430b-8afb-c50badcd9237",
   "metadata": {},
   "outputs": [],
   "source": [
    "original_data['status'] = original_data['status'].astype(int)"
   ]
  },
  {
   "cell_type": "markdown",
   "id": "0e5a3573-fffe-48bb-8b79-50b204aeb116",
   "metadata": {},
   "source": [
    "## vistor_manage "
   ]
  },
  {
   "cell_type": "code",
   "execution_count": 33,
   "id": "404e2202-a92a-4080-977f-e20987426e9a",
   "metadata": {},
   "outputs": [
    {
     "data": {
      "text/plain": [
       "array([nan, '10/4/21 9:53'], dtype=object)"
      ]
     },
     "execution_count": 33,
     "metadata": {},
     "output_type": "execute_result"
    }
   ],
   "source": [
    "original_data['vistor_manage'].unique()"
   ]
  },
  {
   "cell_type": "markdown",
   "id": "6875acd5-230f-4b48-9038-80bd95efc3c9",
   "metadata": {},
   "source": [
    "2021/10/4の一件だけ時間が記入されているだけの列、用途不明のため削除"
   ]
  },
  {
   "cell_type": "code",
   "execution_count": 34,
   "id": "05bbe93a-b4d8-4ddb-8f03-2008f711f929",
   "metadata": {},
   "outputs": [],
   "source": [
    "original_data.drop('vistor_manage', axis=1, inplace=True)"
   ]
  },
  {
   "cell_type": "markdown",
   "id": "2c0d6813-d940-4768-b96d-17d12f16e02e",
   "metadata": {},
   "source": [
    "## manage_memo"
   ]
  },
  {
   "cell_type": "code",
   "execution_count": 35,
   "id": "6cf4f763-55b6-4b8e-864f-0837de35afd8",
   "metadata": {},
   "outputs": [
    {
     "data": {
      "text/plain": [
       "敬老パス                                                                         93\n",
       "手帳                                                                           32\n",
       "メール送付（4／24村田）                                                                25\n",
       "敬老                                                                           24\n",
       "地質調査連絡済み（7／10村田）                                                             20\n",
       "敬老減免                                                                         14\n",
       "敬老パス提示                                                                       14\n",
       "手帳ご提示                                                                        13\n",
       "緊急事態宣言の延長により、9／30まで臨時閉場となったため全額返金（9／11田中）                                    13\n",
       "初釜イベント予約枠押さえ（10／27嶋野）                                                        12\n",
       "手帳2名                                                                         11\n",
       "再開場通知メール送付済み（5／30嶋野）                                                         11\n",
       "キャンパス文化パートナーズ                                                                10\n",
       "当日現金                                                                         10\n",
       "一日乗車券                                                                         9\n",
       "NHK　美の壺撮影　2021／10／28                                                          9\n",
       "庭の日                                                                           8\n",
       "敬老パス2名                                                                        8\n",
       "当日来場予約                                                                        6\n",
       "減免敬老                                                                          6\n",
       "手帳保持者                                                                         6\n",
       "11／30 クラブツーリズム　山崎様　仮押さえ                                                       6\n",
       "減免手帳                                                                          5\n",
       "キャンパスパートナーズ                                                                   5\n",
       "敬老1名                                                                          5\n",
       "時間書き忘れであったため、スマレジ記録で推察し、打ち込み　11／12　太田                                         5\n",
       "当日現金払い                                                                        5\n",
       "当日来場                                                                          5\n",
       "当日予約                                                                          5\n",
       "敬老2名                                                                          4\n",
       "貸切（茶室、母屋2階、入場枠9：00,10：00 貸切）　\\n庭園見学（10分ガイド）、舞妓の舞妓の鑑賞(クラブツーリズム様手配）\\n担当：笹木      4\n",
       "1名庭の日（2／28本田）                                                                 4\n",
       "(仮)田中対応中                                                                      4\n",
       "窓口予約                                                                          4\n",
       "敬老パス２名                                                                        4\n",
       "貸切（茶室、母屋2階、入場枠15：00,16：00 貸切）　\\n庭園見学（10分ガイド）、舞妓の舞妓の鑑賞(クラブツーリズム様手配）\\n担当：笹木     4\n",
       "手帳提示                                                                          4\n",
       "敬老パス1名                                                                        4\n",
       "敬老パス3名                                                                        4\n",
       "減免                                                                            4\n",
       "Name: manage_memo, dtype: int64"
      ]
     },
     "execution_count": 35,
     "metadata": {},
     "output_type": "execute_result"
    }
   ],
   "source": [
    "original_data['manage_memo'].value_counts()[0:40]"
   ]
  },
  {
   "cell_type": "markdown",
   "id": "998e0593-a06d-4c6d-bdbf-fc01933ce2ea",
   "metadata": {},
   "source": [
    "必要なさそう  \n",
    "敬老系  \n",
    "手帳系  \n",
    "メール送付（4／24村田）  \n",
    "地質調査連絡済み（7／10村田）  \n",
    "再開場通知メール送付済み（5／30嶋野）  \n",
    "キャンパス文化パートナーズ  \n",
    "以下少数のもの  \n",
    "\n",
    "必要そう  \n",
    "緊急事態宣言の延長により、9／30まで臨時閉場となったため全額返金（9／11田中） : 無鱗庵の事情関係なくキャンセルになったものなので該当レコードは削除してよい？  \n",
    "初釜イベント予約枠押さえ（10／27嶋野） : 該当レコードはすべてキャンセルされているので事情あり？  \n"
   ]
  },
  {
   "cell_type": "code",
   "execution_count": 36,
   "id": "cf102102-08cc-4860-bbab-05bdb4c794c5",
   "metadata": {},
   "outputs": [],
   "source": [
    "original_data = original_data[original_data['manage_memo']!='緊急事態宣言の延長により、9／30まで臨時閉場となったため全額返金（9／11田中）']\n",
    "original_data = original_data[original_data['manage_memo']!='初釜イベント予約枠押さえ（10／27嶋野）']"
   ]
  },
  {
   "cell_type": "code",
   "execution_count": 37,
   "id": "be496a4f-f7fd-4a45-be77-276a82954dfc",
   "metadata": {},
   "outputs": [],
   "source": [
    "original_data.drop('manage_memo', axis=1, inplace=True)"
   ]
  },
  {
   "cell_type": "markdown",
   "id": "9e22650f-e71f-47ee-a125-9e3891345fa0",
   "metadata": {},
   "source": [
    "## manage_memo2"
   ]
  },
  {
   "cell_type": "code",
   "execution_count": 38,
   "id": "cb16c56d-6fba-48e9-ac33-3596047e568d",
   "metadata": {},
   "outputs": [
    {
     "data": {
      "text/plain": [
       "一般入場 ［2名］                                           4708\n",
       "一般入場 ［1名］                                           3032\n",
       "一般入場 ［3名］                                            622\n",
       "各種減免（対象は上記リンクよりご確認ください）※ ［1名］                        566\n",
       "各種減免（対象は上記リンクよりご確認ください）※ ［2名］                        520\n",
       "一般入場 ［4名］                                            260\n",
       "京都市キャンパス文化パートナーズ制度に入会の大学生･短期大学生※ ［1名］                214\n",
       "「庭の日」＊毎月28日限定 ［1名］                                   205\n",
       "「庭の日」＊毎月28日限定 ［2名］                                   177\n",
       "一般入場 ［1名］\\n京都市キャンパス文化パートナーズ制度に入会の大学生･短期大学生※ ［1名］     123\n",
       "京都市キャンパス文化パートナーズ制度に入会の大学生･短期大学生※ ［2名］                117\n",
       "一般入場 ［5名］                                             60\n",
       "一般入場 ［1名］\\n各種減免（対象は上記リンクよりご確認ください）※ ［1名］              48\n",
       "一般入場 ［1名］\\n「庭の日」＊毎月28日限定 ［1名］                         37\n",
       "一般入場 ［6名］                                             36\n",
       "各種減免（対象は上記リンクよりご確認ください）※ ［3名］                         26\n",
       "一般入場 ［2名］\\n各種減免（対象は上記リンクよりご確認ください）※ ［1名］              25\n",
       "一般入場 ［2名］\\n京都市キャンパス文化パートナーズ制度に入会の大学生･短期大学生※ ［1名］      24\n",
       "一般入場 ［2名］\\n各種減免（対象は上記リンクよりご確認ください）※ ［2名］              23\n",
       "一般入場 ［1名］\\n各種減免（対象は上記リンクよりご確認ください）※ ［2名］              23\n",
       "京都市キャンパス文化パートナーズ制度に入会の大学生･短期大学生※ ［3名］                 18\n",
       "一般入場 ［7名］                                             10\n",
       "「庭の日」＊毎月28日限定 ［3名］                                    10\n",
       "各種減免（対象は上記リンクよりご確認ください）※ ［4名］                          8\n",
       "各種減免（対象は上記リンクよりご確認ください）※ ［5名］                          8\n",
       "一般入場 ［3名］\\n各種減免（対象は上記リンクよりご確認ください）※ ［1名］               8\n",
       "一般入場 ［3名］\\n京都市キャンパス文化パートナーズ制度に入会の大学生･短期大学生※ ［1名］       7\n",
       "一般入場 ［8名］                                              7\n",
       "一般入場 ［4名］\\n各種減免（対象は上記リンクよりご確認ください）※ ［1名］               6\n",
       "一般入場 ［10名］                                             6\n",
       "京都市キャンパス文化パートナーズ制度に入会の大学生･短期大学生※ ［4名］                  6\n",
       "一般入場 ［2名］\\n「庭の日」＊毎月28日限定 ［1名］                          6\n",
       "一般入場 ［15名］                                             5\n",
       "「庭の日」＊毎月28日限定 ［4名］                                     5\n",
       "一般入場 ［2名］\\n「庭の日」＊毎月28日限定 ［2名］                          4\n",
       "「庭の日」＊毎月28日限定 ［5名］                                     4\n",
       "一般入場 ［11名］                                             3\n",
       "一般入場 ［9名］                                              3\n",
       "一般入場 ［12名］                                             3\n",
       "各種減免（対象は上記リンクよりご確認ください）※ ［6名］                          3\n",
       "Name: manage_memo_2, dtype: int64"
      ]
     },
     "execution_count": 38,
     "metadata": {},
     "output_type": "execute_result"
    }
   ],
   "source": [
    "original_data['manage_memo_2'].value_counts()[0:40]"
   ]
  },
  {
   "cell_type": "markdown",
   "id": "d8ae92ff-6b88-4b3e-af96-13124b350ffa",
   "metadata": {},
   "source": [
    "各種減免 : 基本的に600円引き  \n",
    "京都市キャンパス文化 : 500円引き  \n",
    "庭の日 : 600円引き"
   ]
  },
  {
   "cell_type": "code",
   "execution_count": 39,
   "id": "28bc43ab-9e0a-4508-9619-8acc7eab84ca",
   "metadata": {},
   "outputs": [],
   "source": [
    "original_data['exemption'] = original_data['manage_memo_2'].str.contains('各種減免', na=False)\n",
    "original_data['exemption'] = original_data['exemption'].apply(lambda x: 1 if x else 0)"
   ]
  },
  {
   "cell_type": "code",
   "execution_count": 40,
   "id": "406413d1-4d48-4254-84d3-7a8ef2bdf27a",
   "metadata": {},
   "outputs": [],
   "source": [
    "original_data['campus'] = original_data['manage_memo_2'].str.contains('京都市キャンパス文化', na=False)\n",
    "original_data['campus'] = original_data['campus'].apply(lambda x: 1 if x else 0)"
   ]
  },
  {
   "cell_type": "code",
   "execution_count": 41,
   "id": "bac05499-dae5-4e8c-bff9-9884445917b4",
   "metadata": {},
   "outputs": [],
   "source": [
    "original_data['garden_day'] = original_data['manage_memo_2'].str.contains('庭の日', na=False)\n",
    "original_data['garden_day'] = original_data['garden_day'].apply(lambda x: 1 if x else 0)"
   ]
  },
  {
   "cell_type": "code",
   "execution_count": 42,
   "id": "85eda586-8868-4545-a453-308bf82da11b",
   "metadata": {},
   "outputs": [
    {
     "data": {
      "text/plain": [
       "count    19637.000000\n",
       "mean         0.023171\n",
       "std          0.150449\n",
       "min          0.000000\n",
       "25%          0.000000\n",
       "50%          0.000000\n",
       "75%          0.000000\n",
       "max          1.000000\n",
       "Name: garden_day, dtype: float64"
      ]
     },
     "execution_count": 42,
     "metadata": {},
     "output_type": "execute_result"
    }
   ],
   "source": [
    "original_data['garden_day'].describe()"
   ]
  },
  {
   "cell_type": "code",
   "execution_count": 43,
   "id": "24bc5a6f-0b88-4560-b07c-bc9ec79f34e9",
   "metadata": {},
   "outputs": [],
   "source": [
    "original_data.drop('manage_memo_2', axis=1, inplace=True)"
   ]
  },
  {
   "cell_type": "code",
   "execution_count": 44,
   "id": "275635e1-cbae-4c62-84b3-aeee5850a98c",
   "metadata": {},
   "outputs": [
    {
     "name": "stdout",
     "output_type": "stream",
     "text": [
      "<class 'pandas.core.frame.DataFrame'>\n",
      "Int64Index: 19637 entries, 0 to 19661\n",
      "Data columns (total 30 columns):\n",
      " #   Column                   Non-Null Count  Dtype         \n",
      "---  ------                   --------------  -----         \n",
      " 0   entering_date            19637 non-null  datetime64[ns]\n",
      " 1   reserve_content_2        19637 non-null  int64         \n",
      " 2   n_person                 19637 non-null  int64         \n",
      " 3   admin_tag                17043 non-null  object        \n",
      " 4   reserved_date            19637 non-null  datetime64[ns]\n",
      " 5   status                   19637 non-null  int64         \n",
      " 6   reservation_type         0 non-null      float64       \n",
      " 7   amount                   19396 non-null  float64       \n",
      " 8   discaunt                 2308 non-null   float64       \n",
      " 9   preamount                9616 non-null   float64       \n",
      " 10  payment_status           9616 non-null   object        \n",
      " 11  admin_tag_来場確認           19637 non-null  int64         \n",
      " 12  admin_tag_決済済            19637 non-null  int64         \n",
      " 13  admin_tag_当日飛込           19637 non-null  int64         \n",
      " 14  admin_tag_減免             19637 non-null  int64         \n",
      " 15  admin_tag_【確定】電話予約       19637 non-null  int64         \n",
      " 16  admin_tag_★新型コロナウィルスCXL  19637 non-null  int64         \n",
      " 17  admin_tag_知財ツアー          19637 non-null  int64         \n",
      " 18  admin_tag_銀行振込・後納        19637 non-null  int64         \n",
      " 19  admin_tag_社長案件           19637 non-null  int64         \n",
      " 20  admin_tag_！！承認保留！！       19637 non-null  int64         \n",
      " 21  admin_tag_本社関係者          19637 non-null  int64         \n",
      " 22  admin_tag_撮影・取材          19637 non-null  int64         \n",
      " 23  admin_tag_本社経費           19637 non-null  int64         \n",
      " 24  admin_tag_【申請書未】電話予約     19637 non-null  int64         \n",
      " 25  admin_tag_本社来送           19637 non-null  int64         \n",
      " 26  admin_tag_打ち合わせ          19637 non-null  int64         \n",
      " 27  exemption                19637 non-null  int64         \n",
      " 28  campus                   19637 non-null  int64         \n",
      " 29  garden_day               19637 non-null  int64         \n",
      "dtypes: datetime64[ns](2), float64(4), int64(22), object(2)\n",
      "memory usage: 4.6+ MB\n"
     ]
    }
   ],
   "source": [
    "original_data.info()"
   ]
  },
  {
   "cell_type": "markdown",
   "id": "d08120e6-33f7-4073-a936-d52dd34bbf76",
   "metadata": {},
   "source": [
    "## reservation_type\n",
    "全部NULL"
   ]
  },
  {
   "cell_type": "code",
   "execution_count": 45,
   "id": "4ae411d3-ca7f-4a1f-a1ca-44cb66e1b786",
   "metadata": {},
   "outputs": [],
   "source": [
    "original_data.drop('reservation_type', axis=1, inplace=True)"
   ]
  },
  {
   "cell_type": "markdown",
   "id": "2e44d2c2-ed45-41ce-9446-d7d3c6eb3edd",
   "metadata": {},
   "source": [
    "## amount"
   ]
  },
  {
   "cell_type": "code",
   "execution_count": 46,
   "id": "cc3a3cf1-8a60-4680-8c86-373a2649d9cb",
   "metadata": {},
   "outputs": [
    {
     "data": {
      "text/plain": [
       "241"
      ]
     },
     "execution_count": 46,
     "metadata": {},
     "output_type": "execute_result"
    }
   ],
   "source": [
    "original_data['amount'].isnull().sum()"
   ]
  },
  {
   "cell_type": "markdown",
   "id": "1fc1a9ce-3776-4675-a451-23e9b36d8e9e",
   "metadata": {},
   "source": [
    "基本的には人数*600なのでそれで補う  \n",
    "割引は記入されていないので、無いこととする  \n",
    "多分予約フォームからじゃないと割引効かないよね"
   ]
  },
  {
   "cell_type": "code",
   "execution_count": 47,
   "id": "5044d3fb-50cf-4241-b053-279371eb0503",
   "metadata": {},
   "outputs": [],
   "source": [
    "original_data['amount'].fillna(original_data['n_person']*600, inplace=True)"
   ]
  },
  {
   "cell_type": "markdown",
   "id": "c9e76115-de78-47ab-ab8d-f81a03ff27c4",
   "metadata": {},
   "source": [
    "## discount"
   ]
  },
  {
   "cell_type": "code",
   "execution_count": 48,
   "id": "21bd273c-3d28-4ab7-b400-683a0483ce28",
   "metadata": {},
   "outputs": [],
   "source": [
    "original_data.rename(columns={'discaunt' : 'discount'}, inplace=True)"
   ]
  },
  {
   "cell_type": "markdown",
   "id": "b1cf72b8-fd83-4e82-8b25-cd0547f2ac77",
   "metadata": {},
   "source": [
    "Nanは0で補完"
   ]
  },
  {
   "cell_type": "code",
   "execution_count": 49,
   "id": "dbe70c34-60e0-4623-839c-f863685fb8de",
   "metadata": {},
   "outputs": [],
   "source": [
    "original_data['discount'].fillna(0, inplace=True)"
   ]
  },
  {
   "cell_type": "code",
   "execution_count": 50,
   "id": "52819e33-2958-4c73-ab35-9443fd1444df",
   "metadata": {},
   "outputs": [
    {
     "name": "stdout",
     "output_type": "stream",
     "text": [
      "<class 'pandas.core.frame.DataFrame'>\n",
      "Int64Index: 19637 entries, 0 to 19661\n",
      "Data columns (total 29 columns):\n",
      " #   Column                   Non-Null Count  Dtype         \n",
      "---  ------                   --------------  -----         \n",
      " 0   entering_date            19637 non-null  datetime64[ns]\n",
      " 1   reserve_content_2        19637 non-null  int64         \n",
      " 2   n_person                 19637 non-null  int64         \n",
      " 3   admin_tag                17043 non-null  object        \n",
      " 4   reserved_date            19637 non-null  datetime64[ns]\n",
      " 5   status                   19637 non-null  int64         \n",
      " 6   amount                   19637 non-null  float64       \n",
      " 7   discount                 19637 non-null  float64       \n",
      " 8   preamount                9616 non-null   float64       \n",
      " 9   payment_status           9616 non-null   object        \n",
      " 10  admin_tag_来場確認           19637 non-null  int64         \n",
      " 11  admin_tag_決済済            19637 non-null  int64         \n",
      " 12  admin_tag_当日飛込           19637 non-null  int64         \n",
      " 13  admin_tag_減免             19637 non-null  int64         \n",
      " 14  admin_tag_【確定】電話予約       19637 non-null  int64         \n",
      " 15  admin_tag_★新型コロナウィルスCXL  19637 non-null  int64         \n",
      " 16  admin_tag_知財ツアー          19637 non-null  int64         \n",
      " 17  admin_tag_銀行振込・後納        19637 non-null  int64         \n",
      " 18  admin_tag_社長案件           19637 non-null  int64         \n",
      " 19  admin_tag_！！承認保留！！       19637 non-null  int64         \n",
      " 20  admin_tag_本社関係者          19637 non-null  int64         \n",
      " 21  admin_tag_撮影・取材          19637 non-null  int64         \n",
      " 22  admin_tag_本社経費           19637 non-null  int64         \n",
      " 23  admin_tag_【申請書未】電話予約     19637 non-null  int64         \n",
      " 24  admin_tag_本社来送           19637 non-null  int64         \n",
      " 25  admin_tag_打ち合わせ          19637 non-null  int64         \n",
      " 26  exemption                19637 non-null  int64         \n",
      " 27  campus                   19637 non-null  int64         \n",
      " 28  garden_day               19637 non-null  int64         \n",
      "dtypes: datetime64[ns](2), float64(3), int64(22), object(2)\n",
      "memory usage: 4.5+ MB\n"
     ]
    }
   ],
   "source": [
    "original_data.info()"
   ]
  },
  {
   "cell_type": "markdown",
   "id": "ebf408ce-86f9-4f92-9fc6-219c2e5c7c1a",
   "metadata": {},
   "source": [
    "# preamount"
   ]
  },
  {
   "cell_type": "code",
   "execution_count": 53,
   "id": "f9334206-15e2-4706-898e-fddf2cfd6197",
   "metadata": {},
   "outputs": [
    {
     "data": {
      "text/plain": [
       "0           NaN\n",
       "1           NaN\n",
       "2           NaN\n",
       "3           NaN\n",
       "4           NaN\n",
       "          ...  \n",
       "19657       NaN\n",
       "19658    1000.0\n",
       "19659       NaN\n",
       "19660       NaN\n",
       "19661    1600.0\n",
       "Name: preamount, Length: 19637, dtype: float64"
      ]
     },
     "execution_count": 53,
     "metadata": {},
     "output_type": "execute_result"
    }
   ],
   "source": [
    "original_data['preamount']"
   ]
  },
  {
   "cell_type": "markdown",
   "id": "e5b87861-c786-4f59-b93d-d35dea8e8467",
   "metadata": {},
   "source": [
    "欠損値は0をで補完"
   ]
  },
  {
   "cell_type": "code",
   "execution_count": 57,
   "id": "d66c3935-42b1-4324-abc5-5adfe4fb10fa",
   "metadata": {},
   "outputs": [],
   "source": [
    "original_data['preamount'].fillna(0, inplace=True)"
   ]
  },
  {
   "cell_type": "markdown",
   "id": "7752961c-a9fd-4d0f-86a5-b2d20a4819f4",
   "metadata": {},
   "source": [
    "## payment_status"
   ]
  },
  {
   "cell_type": "code",
   "execution_count": 58,
   "id": "69e8ef6e-fcf1-4de3-bfa8-e3ad4722b505",
   "metadata": {},
   "outputs": [
    {
     "data": {
      "text/plain": [
       "array([nan, '決済済み', '払い戻し済み'], dtype=object)"
      ]
     },
     "execution_count": 58,
     "metadata": {},
     "output_type": "execute_result"
    }
   ],
   "source": [
    "original_data['payment_status'].unique()"
   ]
  },
  {
   "cell_type": "markdown",
   "id": "39baf791-f3f2-4e46-9ef4-356673ee6cac",
   "metadata": {},
   "source": [
    "列を分解"
   ]
  },
  {
   "cell_type": "code",
   "execution_count": 60,
   "id": "033ebf91-5a13-4a6f-bdbe-13093f38a2d1",
   "metadata": {},
   "outputs": [],
   "source": [
    "original_data['payment_status_決済済'] = 0\n",
    "original_data.loc[original_data['payment_status']=='決済済み', 'payment_status_決済済'] = 1"
   ]
  },
  {
   "cell_type": "code",
   "execution_count": 61,
   "id": "92f38612-c37d-4863-aec1-d9293d9f7a20",
   "metadata": {},
   "outputs": [],
   "source": [
    "original_data['payment_status_払い戻し済み'] = 0\n",
    "original_data.loc[original_data['payment_status']=='払い戻し済み', 'payment_status_払い戻し済み'] = 1"
   ]
  },
  {
   "cell_type": "code",
   "execution_count": 65,
   "id": "8b704155-bd37-42c4-8e0b-e115717142eb",
   "metadata": {},
   "outputs": [],
   "source": [
    "original_data.drop('payment_status', axis=1, inplace=True)"
   ]
  },
  {
   "cell_type": "markdown",
   "id": "b8e31bad-f5fe-4e2c-83cd-0d4c7b01d24e",
   "metadata": {},
   "source": [
    "# 最終結果"
   ]
  },
  {
   "cell_type": "code",
   "execution_count": 66,
   "id": "e26435b2-4810-4b03-8ce3-254417485fd9",
   "metadata": {},
   "outputs": [
    {
     "name": "stdout",
     "output_type": "stream",
     "text": [
      "<class 'pandas.core.frame.DataFrame'>\n",
      "Int64Index: 19637 entries, 0 to 19661\n",
      "Data columns (total 30 columns):\n",
      " #   Column                   Non-Null Count  Dtype         \n",
      "---  ------                   --------------  -----         \n",
      " 0   entering_date            19637 non-null  datetime64[ns]\n",
      " 1   reserve_content_2        19637 non-null  int64         \n",
      " 2   n_person                 19637 non-null  int64         \n",
      " 3   admin_tag                17043 non-null  object        \n",
      " 4   reserved_date            19637 non-null  datetime64[ns]\n",
      " 5   status                   19637 non-null  int64         \n",
      " 6   amount                   19637 non-null  float64       \n",
      " 7   discount                 19637 non-null  float64       \n",
      " 8   preamount                19637 non-null  float64       \n",
      " 9   admin_tag_来場確認           19637 non-null  int64         \n",
      " 10  admin_tag_決済済            19637 non-null  int64         \n",
      " 11  admin_tag_当日飛込           19637 non-null  int64         \n",
      " 12  admin_tag_減免             19637 non-null  int64         \n",
      " 13  admin_tag_【確定】電話予約       19637 non-null  int64         \n",
      " 14  admin_tag_★新型コロナウィルスCXL  19637 non-null  int64         \n",
      " 15  admin_tag_知財ツアー          19637 non-null  int64         \n",
      " 16  admin_tag_銀行振込・後納        19637 non-null  int64         \n",
      " 17  admin_tag_社長案件           19637 non-null  int64         \n",
      " 18  admin_tag_！！承認保留！！       19637 non-null  int64         \n",
      " 19  admin_tag_本社関係者          19637 non-null  int64         \n",
      " 20  admin_tag_撮影・取材          19637 non-null  int64         \n",
      " 21  admin_tag_本社経費           19637 non-null  int64         \n",
      " 22  admin_tag_【申請書未】電話予約     19637 non-null  int64         \n",
      " 23  admin_tag_本社来送           19637 non-null  int64         \n",
      " 24  admin_tag_打ち合わせ          19637 non-null  int64         \n",
      " 25  exemption                19637 non-null  int64         \n",
      " 26  campus                   19637 non-null  int64         \n",
      " 27  garden_day               19637 non-null  int64         \n",
      " 28  payment_status_決済済       19637 non-null  int64         \n",
      " 29  payment_status_払い戻し済み    19637 non-null  int64         \n",
      "dtypes: datetime64[ns](2), float64(3), int64(24), object(1)\n",
      "memory usage: 5.1+ MB\n"
     ]
    }
   ],
   "source": [
    "original_data.info()"
   ]
  },
  {
   "cell_type": "code",
   "execution_count": 67,
   "id": "334ec8e6-9b21-483b-a83e-6fc3033247ba",
   "metadata": {},
   "outputs": [],
   "source": [
    "original_data.to_csv('no_Nan_data.csv', index=False)"
   ]
  },
  {
   "cell_type": "code",
   "execution_count": null,
   "id": "67c9b61d-cca9-43a1-aacb-d8a10673571f",
   "metadata": {},
   "outputs": [],
   "source": []
  }
 ],
 "metadata": {
  "kernelspec": {
   "display_name": "Python 3 (ipykernel)",
   "language": "python",
   "name": "python3"
  },
  "language_info": {
   "codemirror_mode": {
    "name": "ipython",
    "version": 3
   },
   "file_extension": ".py",
   "mimetype": "text/x-python",
   "name": "python",
   "nbconvert_exporter": "python",
   "pygments_lexer": "ipython3",
   "version": "3.8.11"
  }
 },
 "nbformat": 4,
 "nbformat_minor": 5
}
